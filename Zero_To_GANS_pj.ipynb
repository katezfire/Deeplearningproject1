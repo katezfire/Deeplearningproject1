{
  "nbformat": 4,
  "nbformat_minor": 0,
  "metadata": {
    "accelerator": "GPU",
    "colab": {
      "name": "Zero_To_GANS_pj.ipynb",
      "provenance": [],
      "collapsed_sections": [],
      "include_colab_link": true
    },
    "kernelspec": {
      "display_name": "Python 3",
      "name": "python3"
    }
  },
  "cells": [
    {
      "cell_type": "markdown",
      "metadata": {
        "id": "view-in-github",
        "colab_type": "text"
      },
      "source": [
        "<a href=\"https://colab.research.google.com/github/katezfire/Deeplearningproject1/blob/main/Zero_To_GANS_pj.ipynb\" target=\"_parent\"><img src=\"https://colab.research.google.com/assets/colab-badge.svg\" alt=\"Open In Colab\"/></a>"
      ]
    },
    {
      "cell_type": "code",
      "metadata": {
        "id": "JkGSGsDkZ_Zo"
      },
      "source": [
        "# Jovian Commit Essentials\n",
        "# Please retain and execute this cell without modifying the contents for `jovian.commit` to work\n",
        "!pip install jovian --upgrade -q\n",
        "import jovian\n",
        "jovian.set_project('zero-to-gans-pj')\n",
        "jovian.set_colab_id('1esyCz82P0Wzgx2fj7L-LEvUjtYUsnhGt')"
      ],
      "execution_count": null,
      "outputs": []
    },
    {
      "cell_type": "markdown",
      "metadata": {
        "id": "6Z7Ytuh7crlk"
      },
      "source": [
        "#Deep Learning Project Using Worlds Best Artworks Image Dataset\n",
        "For this Project I will be creating a Deep Learning Model to predict the Images using it's labels."
      ]
    },
    {
      "cell_type": "markdown",
      "metadata": {
        "id": "gP3hYa2Fk0e_"
      },
      "source": [
        "## Dataset Used:  \"Best Artworks of All Time\"\n",
        " https://www.kaggle.com/ikarus777/best-artworks-of-all-time"
      ]
    },
    {
      "cell_type": "code",
      "metadata": {
        "id": "21vWTim-dHEa"
      },
      "source": [
        "!pip install opendatasets --upgrade --quiet"
      ],
      "execution_count": null,
      "outputs": []
    },
    {
      "cell_type": "code",
      "metadata": {
        "id": "xw6XEcn3XO5U"
      },
      "source": [
        "import opendatasets as od"
      ],
      "execution_count": null,
      "outputs": []
    },
    {
      "cell_type": "code",
      "metadata": {
        "id": "b5PJ3pJRXO9b"
      },
      "source": [
        "dataset_url = 'https://www.kaggle.com/ikarus777/best-artworks-of-all-time'"
      ],
      "execution_count": null,
      "outputs": []
    },
    {
      "cell_type": "code",
      "metadata": {
        "colab": {
          "base_uri": "https://localhost:8080/"
        },
        "id": "3A4AH9yXXPDr",
        "outputId": "0c15459f-2027-4692-d66f-30370f6ca17f"
      },
      "source": [
        "od.download(dataset_url)"
      ],
      "execution_count": null,
      "outputs": [
        {
          "output_type": "stream",
          "text": [
            "Please provide your Kaggle credentials to download this dataset. Learn more: http://bit.ly/kaggle-creds\n",
            "Your Kaggle username: katelynjefferson\n",
            "Your Kaggle Key: ··········\n"
          ],
          "name": "stdout"
        },
        {
          "output_type": "stream",
          "text": [
            "\r  0%|          | 0.00/2.29G [00:00<?, ?B/s]"
          ],
          "name": "stderr"
        },
        {
          "output_type": "stream",
          "text": [
            "Downloading best-artworks-of-all-time.zip to ./best-artworks-of-all-time\n"
          ],
          "name": "stdout"
        },
        {
          "output_type": "stream",
          "text": [
            "100%|██████████| 2.29G/2.29G [01:04<00:00, 38.3MB/s]\n"
          ],
          "name": "stderr"
        },
        {
          "output_type": "stream",
          "text": [
            "\n"
          ],
          "name": "stdout"
        }
      ]
    },
    {
      "cell_type": "code",
      "metadata": {
        "colab": {
          "base_uri": "https://localhost:8080/"
        },
        "id": "J1A-VoMn0j5B",
        "outputId": "5000f736-2389-406b-980c-68dfd112eab5"
      },
      "source": [
        "from google.colab import drive\n",
        "drive.mount('/content/drive')"
      ],
      "execution_count": null,
      "outputs": [
        {
          "output_type": "stream",
          "text": [
            "Mounted at /content/drive\n"
          ],
          "name": "stdout"
        }
      ]
    },
    {
      "cell_type": "code",
      "metadata": {
        "id": "vSK4BeGIXPG4"
      },
      "source": [
        "data_dir = './best-artworks-of-all-time/images/images'"
      ],
      "execution_count": null,
      "outputs": []
    },
    {
      "cell_type": "markdown",
      "metadata": {
        "id": "6Qv4F-N2k90V"
      },
      "source": [
        "##Data Exploration and Cleaning \n",
        "This is where I will remove data and check for any  inconsistencies"
      ]
    },
    {
      "cell_type": "code",
      "metadata": {
        "id": "09zPaRfpXPJ8"
      },
      "source": [
        "import os"
      ],
      "execution_count": null,
      "outputs": []
    },
    {
      "cell_type": "code",
      "metadata": {
        "colab": {
          "base_uri": "https://localhost:8080/"
        },
        "id": "vczzGdCRXPNV",
        "outputId": "c2b5b97f-5bdd-4b10-82d8-c9a7b14e0a4f"
      },
      "source": [
        "os.listdir(data_dir)"
      ],
      "execution_count": null,
      "outputs": [
        {
          "output_type": "execute_result",
          "data": {
            "text/plain": [
              "['Claude_Monet',\n",
              " 'Diego_Rivera',\n",
              " 'Camille_Pissarro',\n",
              " 'Francisco_Goya',\n",
              " 'Caravaggio',\n",
              " 'Andy_Warhol',\n",
              " 'Alfred_Sisley',\n",
              " 'Albrecht_DuΓòá├¬rer',\n",
              " 'Leonardo_da_Vinci',\n",
              " 'Edvard_Munch',\n",
              " 'Raphael',\n",
              " 'Vincent_van_Gogh',\n",
              " 'Andrei_Rublev',\n",
              " 'Hieronymus_Bosch',\n",
              " 'William_Turner',\n",
              " 'Sandro_Botticelli',\n",
              " 'Michelangelo',\n",
              " 'Kazimir_Malevich',\n",
              " 'Joan_Miro',\n",
              " 'Pieter_Bruegel',\n",
              " 'Edgar_Degas',\n",
              " 'Rembrandt',\n",
              " 'Rene_Magritte',\n",
              " 'Giotto_di_Bondone',\n",
              " 'Gustave_Courbet',\n",
              " 'Titian',\n",
              " 'Henri_de_Toulouse-Lautrec',\n",
              " 'Gustav_Klimt',\n",
              " 'Eugene_Delacroix',\n",
              " 'Pablo_Picasso',\n",
              " 'Mikhail_Vrubel',\n",
              " 'El_Greco',\n",
              " 'Jackson_Pollock',\n",
              " 'Piet_Mondrian',\n",
              " 'Paul_Gauguin',\n",
              " 'Peter_Paul_Rubens',\n",
              " 'Pierre-Auguste_Renoir',\n",
              " 'Paul_Klee',\n",
              " 'Edouard_Manet',\n",
              " 'Henri_Rousseau',\n",
              " 'Albrecht_Du╠êrer',\n",
              " 'Paul_Cezanne',\n",
              " 'Diego_Velazquez',\n",
              " 'Marc_Chagall',\n",
              " 'Georges_Seurat',\n",
              " 'Vasiliy_Kandinskiy',\n",
              " 'Salvador_Dali',\n",
              " 'Henri_Matisse',\n",
              " 'Amedeo_Modigliani',\n",
              " 'Jan_van_Eyck',\n",
              " 'Frida_Kahlo']"
            ]
          },
          "metadata": {
            "tags": []
          },
          "execution_count": 9
        }
      ]
    },
    {
      "cell_type": "code",
      "metadata": {
        "colab": {
          "base_uri": "https://localhost:8080/"
        },
        "id": "WjyDVAv4FJd-",
        "outputId": "ec201396-85d4-4ee8-8ce2-7b84405fffc1"
      },
      "source": [
        "for cls in os.listdir(data_dir):\n",
        "  print(cls, ':', len(os.listdir(data_dir + '/' + cls)))"
      ],
      "execution_count": null,
      "outputs": [
        {
          "output_type": "stream",
          "text": [
            "Claude_Monet : 73\n",
            "Diego_Rivera : 70\n",
            "Camille_Pissarro : 91\n",
            "Francisco_Goya : 291\n",
            "Caravaggio : 55\n",
            "Andy_Warhol : 181\n",
            "Alfred_Sisley : 259\n",
            "Albrecht_DuΓòá├¬rer : 328\n",
            "Leonardo_da_Vinci : 143\n",
            "Edvard_Munch : 67\n",
            "Raphael : 109\n",
            "Vincent_van_Gogh : 877\n",
            "Andrei_Rublev : 99\n",
            "Hieronymus_Bosch : 137\n",
            "William_Turner : 66\n",
            "Sandro_Botticelli : 164\n",
            "Michelangelo : 49\n",
            "Kazimir_Malevich : 126\n",
            "Joan_Miro : 102\n",
            "Pieter_Bruegel : 134\n",
            "Edgar_Degas : 702\n",
            "Rembrandt : 262\n",
            "Rene_Magritte : 194\n",
            "Giotto_di_Bondone : 119\n",
            "Gustave_Courbet : 59\n",
            "Titian : 255\n",
            "Henri_de_Toulouse-Lautrec : 81\n",
            "Gustav_Klimt : 117\n",
            "Eugene_Delacroix : 31\n",
            "Pablo_Picasso : 439\n",
            "Mikhail_Vrubel : 171\n",
            "El_Greco : 87\n",
            "Jackson_Pollock : 24\n",
            "Piet_Mondrian : 84\n",
            "Paul_Gauguin : 311\n",
            "Peter_Paul_Rubens : 141\n",
            "Pierre-Auguste_Renoir : 336\n",
            "Paul_Klee : 188\n",
            "Edouard_Manet : 90\n",
            "Henri_Rousseau : 70\n",
            "Albrecht_Du╠êrer : 328\n",
            "Paul_Cezanne : 47\n",
            "Diego_Velazquez : 128\n",
            "Marc_Chagall : 239\n",
            "Georges_Seurat : 43\n",
            "Vasiliy_Kandinskiy : 88\n",
            "Salvador_Dali : 139\n",
            "Henri_Matisse : 186\n",
            "Amedeo_Modigliani : 193\n",
            "Jan_van_Eyck : 81\n",
            "Frida_Kahlo : 120\n"
          ],
          "name": "stdout"
        }
      ]
    },
    {
      "cell_type": "code",
      "metadata": {
        "id": "_CV44xPshdxM"
      },
      "source": [
        "#Removing all folders with less than 200 photos to make it easier to run the model \n",
        "\n",
        "import glob\n",
        "\n",
        "for cls in os.listdir(data_dir):\n",
        "  if len(os.listdir(data_dir + '/' + cls)) <= 200:\n",
        "    file = glob.glob(data_dir + '/' + cls + '/*')\n",
        "    for f in file:\n",
        "      os.remove(f)\n",
        "    if len(os.listdir(data_dir + '/' + cls)) == 0: \n",
        "      os.rmdir(data_dir + '/' + cls)\n"
      ],
      "execution_count": null,
      "outputs": []
    },
    {
      "cell_type": "code",
      "metadata": {
        "colab": {
          "base_uri": "https://localhost:8080/"
        },
        "id": "GLDwRKTLkqTd",
        "outputId": "96cce5b4-1865-4596-83d4-58d6ec6fe8b9"
      },
      "source": [
        "for cls in os.listdir(data_dir):\n",
        "  print(cls, ':', len(os.listdir(data_dir + '/' + cls)))"
      ],
      "execution_count": null,
      "outputs": [
        {
          "output_type": "stream",
          "text": [
            "Francisco_Goya : 291\n",
            "Alfred_Sisley : 259\n",
            "Albrecht_DuΓòá├¬rer : 328\n",
            "Vincent_van_Gogh : 877\n",
            "Edgar_Degas : 702\n",
            "Rembrandt : 262\n",
            "Titian : 255\n",
            "Pablo_Picasso : 439\n",
            "Paul_Gauguin : 311\n",
            "Pierre-Auguste_Renoir : 336\n",
            "Albrecht_Du╠êrer : 328\n",
            "Marc_Chagall : 239\n"
          ],
          "name": "stdout"
        }
      ]
    },
    {
      "cell_type": "markdown",
      "metadata": {
        "id": "xdMUiy9QfYUw"
      },
      "source": [
        "## Import Dataset Into Pytorch\n",
        "Use the ImageFolder Class From torchvision"
      ]
    },
    {
      "cell_type": "code",
      "metadata": {
        "id": "oLJzKPYAhvO5"
      },
      "source": [
        "from torchvision.datasets import ImageFolder"
      ],
      "execution_count": null,
      "outputs": []
    },
    {
      "cell_type": "code",
      "metadata": {
        "id": "4U_z9wxAiuOE"
      },
      "source": [
        "dataset = ImageFolder(data_dir)"
      ],
      "execution_count": null,
      "outputs": []
    },
    {
      "cell_type": "code",
      "metadata": {
        "colab": {
          "base_uri": "https://localhost:8080/"
        },
        "id": "-WJlvHSWiuLV",
        "outputId": "af4cc050-d46f-4db5-9e21-3733ffcb8430"
      },
      "source": [
        "len(dataset)"
      ],
      "execution_count": null,
      "outputs": [
        {
          "output_type": "execute_result",
          "data": {
            "text/plain": [
              "4627"
            ]
          },
          "metadata": {
            "tags": []
          },
          "execution_count": 15
        }
      ]
    },
    {
      "cell_type": "code",
      "metadata": {
        "colab": {
          "base_uri": "https://localhost:8080/"
        },
        "id": "2mC4KToRiuIN",
        "outputId": "ae5946db-e18f-4ced-ce4b-ae081ca7954b"
      },
      "source": [
        "dataset[0]"
      ],
      "execution_count": null,
      "outputs": [
        {
          "output_type": "execute_result",
          "data": {
            "text/plain": [
              "(<PIL.Image.Image image mode=RGB size=720x1024 at 0x7F0344802A20>, 0)"
            ]
          },
          "metadata": {
            "tags": []
          },
          "execution_count": 16
        }
      ]
    },
    {
      "cell_type": "code",
      "metadata": {
        "colab": {
          "base_uri": "https://localhost:8080/"
        },
        "id": "QrklWxrDiuFL",
        "outputId": "b4e4ff29-7a4a-4add-b22f-7cee94086054"
      },
      "source": [
        "dataset.classes"
      ],
      "execution_count": null,
      "outputs": [
        {
          "output_type": "execute_result",
          "data": {
            "text/plain": [
              "['Albrecht_DuΓòá├¬rer',\n",
              " 'Albrecht_Du╠êrer',\n",
              " 'Alfred_Sisley',\n",
              " 'Edgar_Degas',\n",
              " 'Francisco_Goya',\n",
              " 'Marc_Chagall',\n",
              " 'Pablo_Picasso',\n",
              " 'Paul_Gauguin',\n",
              " 'Pierre-Auguste_Renoir',\n",
              " 'Rembrandt',\n",
              " 'Titian',\n",
              " 'Vincent_van_Gogh']"
            ]
          },
          "metadata": {
            "tags": []
          },
          "execution_count": 17
        }
      ]
    },
    {
      "cell_type": "code",
      "metadata": {
        "id": "WPaNHKNeiuBx"
      },
      "source": [
        "import matplotlib.pyplot as plt\n",
        "%matplotlib inline"
      ],
      "execution_count": null,
      "outputs": []
    },
    {
      "cell_type": "code",
      "metadata": {
        "colab": {
          "base_uri": "https://localhost:8080/",
          "height": 286
        },
        "id": "R_ZzJJpuit3K",
        "outputId": "b1d8576e-46e0-43e9-8f5c-24e629ac0018"
      },
      "source": [
        "img, label = dataset[0]\n",
        "plt.imshow(img)"
      ],
      "execution_count": null,
      "outputs": [
        {
          "output_type": "execute_result",
          "data": {
            "text/plain": [
              "<matplotlib.image.AxesImage at 0x7f02f78a89b0>"
            ]
          },
          "metadata": {
            "tags": []
          },
          "execution_count": 19
        },
        {
          "output_type": "display_data",
          "data": {
            "image/png": "[encoded data removed]",
            "text/plain": [
              "<Figure size 432x288 with 1 Axes>"
            ]
          },
          "metadata": {
            "tags": [],
            "needs_background": "light"
          }
        }
      ]
    },
    {
      "cell_type": "code",
      "metadata": {
        "id": "y2eOMniCkrHI"
      },
      "source": [
        "import torchvision.transforms as tt\n",
        "dataset = ImageFolder(data_dir, tt.Compose([tt.Resize(64),tt.RandomCrop(64),\n",
        "                                            tt.ToTensor()]))"
      ],
      "execution_count": null,
      "outputs": []
    },
    {
      "cell_type": "code",
      "metadata": {
        "colab": {
          "base_uri": "https://localhost:8080/",
          "height": 285
        },
        "id": "A5TwtlnUkrQW",
        "outputId": "c7cd0932-27dd-4dea-d765-f43a489e77cb"
      },
      "source": [
        "img, label = dataset[200]\n",
        "plt.imshow(img.permute(1,2,0))"
      ],
      "execution_count": null,
      "outputs": [
        {
          "output_type": "execute_result",
          "data": {
            "text/plain": [
              "<matplotlib.image.AxesImage at 0x7f02f795dac8>"
            ]
          },
          "metadata": {
            "tags": []
          },
          "execution_count": 21
        },
        {
          "output_type": "display_data",
          "data": {
            "image/png": "[encoded data removed]",
            "text/plain": [
              "<Figure size 432x288 with 1 Axes>"
            ]
          },
          "metadata": {
            "tags": [],
            "needs_background": "light"
          }
        }
      ]
    },
    {
      "cell_type": "code",
      "metadata": {
        "colab": {
          "base_uri": "https://localhost:8080/"
        },
        "id": "HosAiEo-krbQ",
        "outputId": "06045c97-9838-4ba3-a9b4-39cb0264edcb"
      },
      "source": [
        "#This block of code picks out parts of the dataset to make a traning model and validation model \n",
        "val_pct = 0.1\n",
        "val_size = int(val_pct * len(dataset))\n",
        "train_size = len(dataset) - val_size\n",
        "\n",
        "train_size, val_size"
      ],
      "execution_count": null,
      "outputs": [
        {
          "output_type": "execute_result",
          "data": {
            "text/plain": [
              "(4165, 462)"
            ]
          },
          "metadata": {
            "tags": []
          },
          "execution_count": 22
        }
      ]
    },
    {
      "cell_type": "code",
      "metadata": {
        "colab": {
          "base_uri": "https://localhost:8080/"
        },
        "id": "OcDu0mH9krX2",
        "outputId": "50475000-635a-4b85-86ac-c09662cc7117"
      },
      "source": [
        "from torch.utils.data import random_split\n",
        "\n",
        "train_ds, valid_ds = random_split(dataset,[train_size, val_size])\n",
        "len(train_ds) , len(valid_ds)"
      ],
      "execution_count": null,
      "outputs": [
        {
          "output_type": "execute_result",
          "data": {
            "text/plain": [
              "(4165, 462)"
            ]
          },
          "metadata": {
            "tags": []
          },
          "execution_count": 23
        }
      ]
    },
    {
      "cell_type": "code",
      "metadata": {
        "id": "qG6UaeYTCF5R"
      },
      "source": [
        "from torch.utils.data.dataloader import DataLoader\n",
        "\n",
        "batch_size = 128\n",
        "\n",
        "train_dl = DataLoader(train_ds, \n",
        "                      batch_size, \n",
        "                      shuffle=True, \n",
        "                      num_workers=4, \n",
        "                      pin_memory=True)\n",
        "valid_dl = DataLoader(valid_ds, \n",
        "                    batch_size, \n",
        "                    num_workers=4, \n",
        "                    pin_memory=True)"
      ],
      "execution_count": null,
      "outputs": []
    },
    {
      "cell_type": "code",
      "metadata": {
        "id": "9HRM0531CGC2"
      },
      "source": [
        "from torchvision.utils import make_grid\n",
        "\n",
        "def show_batch(dl):\n",
        "    for images, labels in dl:\n",
        "        fig, ax = plt.subplots(figsize=(12, 6))\n",
        "        ax.set_xticks([]); ax.set_yticks([])\n",
        "        ax.imshow(make_grid(images, nrow=16).permute(1, 2, 0))\n",
        "        break"
      ],
      "execution_count": null,
      "outputs": []
    },
    {
      "cell_type": "markdown",
      "metadata": {
        "id": "uWlJ4p3CK-GB"
      },
      "source": [
        "##GPU Utilities"
      ]
    },
    {
      "cell_type": "code",
      "metadata": {
        "id": "7G_IKcnRDa4c"
      },
      "source": [
        "import torch\n",
        "\n",
        "def get_default_device():\n",
        "    \"\"\"Pick GPU if available, else CPU\"\"\"\n",
        "    if torch.cuda.is_available():\n",
        "        return torch.device('cuda')\n",
        "    else:\n",
        "        return torch.device('cpu')\n",
        "    \n",
        "def to_device(data, device):\n",
        "    \"\"\"Move tensor(s) to chosen device\"\"\"\n",
        "    if isinstance(data, (list,tuple)):\n",
        "        return [to_device(x, device) for x in data]\n",
        "    return data.to(device, non_blocking=True)\n",
        "\n",
        "class DeviceDataLoader():\n",
        "    \"\"\"Wrap a dataloader to move data to a device\"\"\"\n",
        "    def __init__(self, dl, device):\n",
        "        self.dl = dl\n",
        "        self.device = device\n",
        "        \n",
        "    def __iter__(self):\n",
        "        \"\"\"Yield a batch of data after moving it to device\"\"\"\n",
        "        for b in self.dl: \n",
        "            yield to_device(b, self.device)\n",
        "\n",
        "    def __len__(self):\n",
        "        \"\"\"Number of batches\"\"\"\n",
        "        return len(self.dl)"
      ],
      "execution_count": null,
      "outputs": []
    },
    {
      "cell_type": "code",
      "metadata": {
        "colab": {
          "base_uri": "https://localhost:8080/"
        },
        "id": "FnoKCQkQDa7x",
        "outputId": "9f2976f3-465a-462e-e915-8a29b82c3e7a"
      },
      "source": [
        "torch.cuda.is_available()"
      ],
      "execution_count": null,
      "outputs": [
        {
          "output_type": "execute_result",
          "data": {
            "text/plain": [
              "True"
            ]
          },
          "metadata": {
            "tags": []
          },
          "execution_count": 27
        }
      ]
    },
    {
      "cell_type": "code",
      "metadata": {
        "id": "En1oMHrwDa-0"
      },
      "source": [
        "device = get_default_device()"
      ],
      "execution_count": null,
      "outputs": []
    },
    {
      "cell_type": "code",
      "metadata": {
        "colab": {
          "base_uri": "https://localhost:8080/"
        },
        "id": "_OOXnI7UDbBW",
        "outputId": "3d41f759-0247-4180-adb8-346fdd50cb85"
      },
      "source": [
        "device"
      ],
      "execution_count": null,
      "outputs": [
        {
          "output_type": "execute_result",
          "data": {
            "text/plain": [
              "device(type='cuda')"
            ]
          },
          "metadata": {
            "tags": []
          },
          "execution_count": 29
        }
      ]
    },
    {
      "cell_type": "code",
      "metadata": {
        "id": "mQbESsa4PMPg"
      },
      "source": [
        "img, label = dataset[0]"
      ],
      "execution_count": null,
      "outputs": []
    },
    {
      "cell_type": "code",
      "metadata": {
        "colab": {
          "base_uri": "https://localhost:8080/"
        },
        "id": "HIlH2wONPMTH",
        "outputId": "280baf96-4462-4049-dfb5-05144a29d622"
      },
      "source": [
        "img.device"
      ],
      "execution_count": null,
      "outputs": [
        {
          "output_type": "execute_result",
          "data": {
            "text/plain": [
              "device(type='cpu')"
            ]
          },
          "metadata": {
            "tags": []
          },
          "execution_count": 31
        }
      ]
    },
    {
      "cell_type": "code",
      "metadata": {
        "colab": {
          "base_uri": "https://localhost:8080/"
        },
        "id": "U36kmBLvPMWV",
        "outputId": "77f50739-4525-4ffe-ebe5-ffddd69a8b21"
      },
      "source": [
        " #This part of code is checking to see if the code detects a gpu running\n",
        "img_gpu = to_device(img, device)\n",
        "img_gpu.device"
      ],
      "execution_count": null,
      "outputs": [
        {
          "output_type": "execute_result",
          "data": {
            "text/plain": [
              "device(type='cuda', index=0)"
            ]
          },
          "metadata": {
            "tags": []
          },
          "execution_count": 32
        }
      ]
    },
    {
      "cell_type": "code",
      "metadata": {
        "id": "tK4Ntf_XPMZS"
      },
      "source": [
        "train_dl = DeviceDataLoader(train_dl, device)\n",
        "valid_dl = DeviceDataLoader(valid_dl, device)"
      ],
      "execution_count": null,
      "outputs": []
    },
    {
      "cell_type": "markdown",
      "metadata": {
        "id": "HeP5pyf4P_7w"
      },
      "source": [
        "## Model and Training Utilties"
      ]
    },
    {
      "cell_type": "code",
      "metadata": {
        "id": "Hs-KCXtOPMcs"
      },
      "source": [
        "import torch.nn as nn\n",
        "import torch.nn.functional as F\n",
        "\n",
        "class ImageClassificationBase(nn.Module):\n",
        "    def training_step(self, batch):\n",
        "        images, labels = batch \n",
        "        out = self(images)                  # Generate predictions\n",
        "        loss = F.cross_entropy(out, labels) # Calculate loss\n",
        "        return loss\n",
        "    \n",
        "    def validation_step(self, batch):\n",
        "        images, labels = batch \n",
        "        out = self(images)                    # Generate predictions\n",
        "        loss = F.cross_entropy(out, labels)   # Calculate loss\n",
        "        acc = accuracy(out, labels)           # Calculate accuracy\n",
        "        return {'val_loss': loss.detach(), 'val_acc': acc}\n",
        "        \n",
        "    def validation_epoch_end(self, outputs):\n",
        "        batch_losses = [x['val_loss'] for x in outputs]\n",
        "        epoch_loss = torch.stack(batch_losses).mean()   # Combine losses\n",
        "        batch_accs = [x['val_acc'] for x in outputs]\n",
        "        epoch_acc = torch.stack(batch_accs).mean()      # Combine accuracies\n",
        "        return {'val_loss': epoch_loss.item(), 'val_acc': epoch_acc.item()}\n",
        "    \n",
        "    def epoch_end(self, epoch, result):\n",
        "        print(\"Epoch [{}], train_loss: {:.4f}, val_loss: {:.4f}, val_acc: {:.4f}\".format(\n",
        "            epoch, result['train_loss'], result['val_loss'], result['val_acc']))\n",
        "        \n",
        "def accuracy(outputs, labels):\n",
        "    _, preds = torch.max(outputs, dim=1)\n",
        "    return torch.tensor(torch.sum(preds == labels).item() / len(preds))"
      ],
      "execution_count": null,
      "outputs": []
    },
    {
      "cell_type": "code",
      "metadata": {
        "id": "2GIqykPIP2Fz"
      },
      "source": [
        "def evaluate(model, val_loader):\n",
        "    model.eval()\n",
        "    outputs = [model.validation_step(batch) for batch in val_loader]\n",
        "    return model.validation_epoch_end(outputs)\n",
        "\n",
        "def fit(epochs, lr, model, train_loader, val_loader, opt_func=torch.optim.SGD):\n",
        "    history = []\n",
        "    optimizer = opt_func(model.parameters(), lr)\n",
        "    for epoch in range(epochs):\n",
        "        # Training Phase \n",
        "        model.train()\n",
        "        train_losses = []\n",
        "        for batch in train_loader:\n",
        "            loss = model.training_step(batch)\n",
        "            train_losses.append(loss)\n",
        "            loss.backward()\n",
        "            optimizer.step()\n",
        "            optimizer.zero_grad()\n",
        "        # Validation phase\n",
        "        result = evaluate(model, val_loader)\n",
        "        result['train_loss'] = torch.stack(train_losses).mean().item()\n",
        "        model.epoch_end(epoch, result)\n",
        "        history.append(result)\n",
        "    return history"
      ],
      "execution_count": null,
      "outputs": []
    },
    {
      "cell_type": "markdown",
      "metadata": {
        "id": "cS8hHs1OTLfz"
      },
      "source": [
        "##Model"
      ]
    },
    {
      "cell_type": "code",
      "metadata": {
        "id": "lFkAmBCaP16D"
      },
      "source": [
        "def conv_block(in_channels, out_channels, pool=False):\n",
        "    layers = [nn.Conv2d(in_channels, out_channels, kernel_size=3, padding=1), \n",
        "              nn.BatchNorm2d(out_channels), \n",
        "              nn.ReLU(inplace=True)]\n",
        "    if pool: layers.append(nn.MaxPool2d(2))\n",
        "    return nn.Sequential(*layers)\n",
        "\n",
        "class ResNet9(ImageClassificationBase):\n",
        "    def __init__(self, in_channels, num_classes):\n",
        "        super().__init__()\n",
        "        \n",
        "        self.conv1 = conv_block(in_channels, 64)\n",
        "        self.conv2 = conv_block(64, 128, pool=True)\n",
        "        self.res1 = nn.Sequential(conv_block(128, 128), conv_block(128, 128))\n",
        "        \n",
        "        self.conv3 = conv_block(128, 256, pool=True)\n",
        "        self.conv4 = conv_block(256, 512, pool=True)\n",
        "        self.res2 = nn.Sequential(conv_block(512, 512), conv_block(512, 512))\n",
        "        self.classifier = nn.Sequential(nn.AdaptiveMaxPool2d(1), # 128 x 512 x 1 x 1 \n",
        "                                        nn.Flatten(), # 128 x 512\n",
        "                                        nn.Dropout(0.2),\n",
        "                                        nn.Linear(512, num_classes))\n",
        "        \n",
        "    def forward(self, xb):\n",
        "        out = self.conv1(xb)\n",
        "        out = self.conv2(out)\n",
        "        out = self.res1(out) + out\n",
        "        out = self.conv3(out)\n",
        "        out = self.conv4(out)\n",
        "        out = self.res2(out) + out\n",
        "        out = self.classifier(out)\n",
        "        return out"
      ],
      "execution_count": null,
      "outputs": []
    },
    {
      "cell_type": "code",
      "metadata": {
        "colab": {
          "base_uri": "https://localhost:8080/"
        },
        "id": "APd2oTnYP12k",
        "outputId": "daa25294-70ca-4017-95b7-758f4dfb4f99"
      },
      "source": [
        "model = to_device(ResNet9(3, len(dataset.classes)), device)\n",
        "model"
      ],
      "execution_count": null,
      "outputs": [
        {
          "output_type": "execute_result",
          "data": {
            "text/plain": [
              "ResNet9(\n",
              "  (conv1): Sequential(\n",
              "    (0): Conv2d(3, 64, kernel_size=(3, 3), stride=(1, 1), padding=(1, 1))\n",
              "    (1): BatchNorm2d(64, eps=1e-05, momentum=0.1, affine=True, track_running_stats=True)\n",
              "    (2): ReLU(inplace=True)\n",
              "  )\n",
              "  (conv2): Sequential(\n",
              "    (0): Conv2d(64, 128, kernel_size=(3, 3), stride=(1, 1), padding=(1, 1))\n",
              "    (1): BatchNorm2d(128, eps=1e-05, momentum=0.1, affine=True, track_running_stats=True)\n",
              "    (2): ReLU(inplace=True)\n",
              "    (3): MaxPool2d(kernel_size=2, stride=2, padding=0, dilation=1, ceil_mode=False)\n",
              "  )\n",
              "  (res1): Sequential(\n",
              "    (0): Sequential(\n",
              "      (0): Conv2d(128, 128, kernel_size=(3, 3), stride=(1, 1), padding=(1, 1))\n",
              "      (1): BatchNorm2d(128, eps=1e-05, momentum=0.1, affine=True, track_running_stats=True)\n",
              "      (2): ReLU(inplace=True)\n",
              "    )\n",
              "    (1): Sequential(\n",
              "      (0): Conv2d(128, 128, kernel_size=(3, 3), stride=(1, 1), padding=(1, 1))\n",
              "      (1): BatchNorm2d(128, eps=1e-05, momentum=0.1, affine=True, track_running_stats=True)\n",
              "      (2): ReLU(inplace=True)\n",
              "    )\n",
              "  )\n",
              "  (conv3): Sequential(\n",
              "    (0): Conv2d(128, 256, kernel_size=(3, 3), stride=(1, 1), padding=(1, 1))\n",
              "    (1): BatchNorm2d(256, eps=1e-05, momentum=0.1, affine=True, track_running_stats=True)\n",
              "    (2): ReLU(inplace=True)\n",
              "    (3): MaxPool2d(kernel_size=2, stride=2, padding=0, dilation=1, ceil_mode=False)\n",
              "  )\n",
              "  (conv4): Sequential(\n",
              "    (0): Conv2d(256, 512, kernel_size=(3, 3), stride=(1, 1), padding=(1, 1))\n",
              "    (1): BatchNorm2d(512, eps=1e-05, momentum=0.1, affine=True, track_running_stats=True)\n",
              "    (2): ReLU(inplace=True)\n",
              "    (3): MaxPool2d(kernel_size=2, stride=2, padding=0, dilation=1, ceil_mode=False)\n",
              "  )\n",
              "  (res2): Sequential(\n",
              "    (0): Sequential(\n",
              "      (0): Conv2d(512, 512, kernel_size=(3, 3), stride=(1, 1), padding=(1, 1))\n",
              "      (1): BatchNorm2d(512, eps=1e-05, momentum=0.1, affine=True, track_running_stats=True)\n",
              "      (2): ReLU(inplace=True)\n",
              "    )\n",
              "    (1): Sequential(\n",
              "      (0): Conv2d(512, 512, kernel_size=(3, 3), stride=(1, 1), padding=(1, 1))\n",
              "      (1): BatchNorm2d(512, eps=1e-05, momentum=0.1, affine=True, track_running_stats=True)\n",
              "      (2): ReLU(inplace=True)\n",
              "    )\n",
              "  )\n",
              "  (classifier): Sequential(\n",
              "    (0): AdaptiveMaxPool2d(output_size=1)\n",
              "    (1): Flatten(start_dim=1, end_dim=-1)\n",
              "    (2): Dropout(p=0.2, inplace=False)\n",
              "    (3): Linear(in_features=512, out_features=12, bias=True)\n",
              "  )\n",
              ")"
            ]
          },
          "metadata": {
            "tags": []
          },
          "execution_count": 37
        }
      ]
    },
    {
      "cell_type": "code",
      "metadata": {
        "colab": {
          "base_uri": "https://localhost:8080/"
        },
        "id": "SAQ_F-Q_1xtB",
        "outputId": "d91a6514-adab-4c24-b6c3-4193a5d3a2aa"
      },
      "source": [
        "model.conv1[0].weight.device"
      ],
      "execution_count": null,
      "outputs": [
        {
          "output_type": "execute_result",
          "data": {
            "text/plain": [
              "device(type='cuda', index=0)"
            ]
          },
          "metadata": {
            "tags": []
          },
          "execution_count": 38
        }
      ]
    },
    {
      "cell_type": "markdown",
      "metadata": {
        "id": "FfSgK3yJUc_D"
      },
      "source": [
        "Pass one batch of input tensor through model"
      ]
    },
    {
      "cell_type": "code",
      "metadata": {
        "colab": {
          "base_uri": "https://localhost:8080/"
        },
        "id": "PojGH9QcP1mM",
        "outputId": "3b1fe8ba-b741-4e66-a8dc-4854e1e057ab"
      },
      "source": [
        "torch.cuda.empty_cache()\n",
        "for batch in train_dl:\n",
        "    images, labels = batch\n",
        "    print('images.shape', images.shape)\n",
        "    print('images.device', images.device)\n",
        "    preds = model(images)\n",
        "    print('preds.shape', preds.shape)\n",
        "    break"
      ],
      "execution_count": null,
      "outputs": [
        {
          "output_type": "stream",
          "text": [
            "images.shape torch.Size([128, 3, 64, 64])\n",
            "images.device cuda:0\n",
            "preds.shape torch.Size([128, 12])\n"
          ],
          "name": "stdout"
        }
      ]
    },
    {
      "cell_type": "markdown",
      "metadata": {
        "id": "4_aSLwiLlWt6"
      },
      "source": [
        "## Model Running"
      ]
    },
    {
      "cell_type": "code",
      "metadata": {
        "colab": {
          "base_uri": "https://localhost:8080/"
        },
        "id": "XzOE8iYFIi24",
        "outputId": "3d539a44-3d8d-4ab6-b43f-1bf616186780"
      },
      "source": [
        "history = [evaluate(model, valid_dl)]\n",
        "history"
      ],
      "execution_count": null,
      "outputs": [
        {
          "output_type": "execute_result",
          "data": {
            "text/plain": [
              "[{'val_acc': 0.049379006028175354, 'val_loss': 2.487276077270508}]"
            ]
          },
          "metadata": {
            "tags": []
          },
          "execution_count": 40
        }
      ]
    },
    {
      "cell_type": "code",
      "metadata": {
        "colab": {
          "base_uri": "https://localhost:8080/"
        },
        "id": "EK3q5TUSIizm",
        "outputId": "09e47ea3-07df-4b64-cc50-5a2bd2b51881"
      },
      "source": [
        "history += fit(5, 0.001, model, train_dl, valid_dl, torch.optim.Adam)"
      ],
      "execution_count": null,
      "outputs": [
        {
          "output_type": "stream",
          "text": [
            "Epoch [0], train_loss: 2.1485, val_loss: 2.1658, val_acc: 0.3261\n",
            "Epoch [1], train_loss: 1.5765, val_loss: 1.6025, val_acc: 0.4325\n",
            "Epoch [2], train_loss: 1.4297, val_loss: 1.3955, val_acc: 0.4837\n",
            "Epoch [3], train_loss: 1.3345, val_loss: 1.3832, val_acc: 0.5138\n",
            "Epoch [4], train_loss: 1.2780, val_loss: 1.3855, val_acc: 0.5049\n"
          ],
          "name": "stdout"
        }
      ]
    },
    {
      "cell_type": "code",
      "metadata": {
        "colab": {
          "base_uri": "https://localhost:8080/"
        },
        "id": "umEGKSwyIiwt",
        "outputId": "81f82986-ee0f-4d22-dfc8-41c63501ce1e"
      },
      "source": [
        "history += fit(5, 0.001, model, train_dl, valid_dl, torch.optim.Adam)"
      ],
      "execution_count": null,
      "outputs": [
        {
          "output_type": "stream",
          "text": [
            "Epoch [0], train_loss: 1.4249, val_loss: 1.3572, val_acc: 0.4876\n",
            "Epoch [1], train_loss: 1.2642, val_loss: 1.2107, val_acc: 0.5626\n",
            "Epoch [2], train_loss: 1.1204, val_loss: 1.5572, val_acc: 0.4714\n",
            "Epoch [3], train_loss: 1.0637, val_loss: 1.2628, val_acc: 0.5262\n",
            "Epoch [4], train_loss: 0.9600, val_loss: 1.1252, val_acc: 0.5597\n"
          ],
          "name": "stdout"
        }
      ]
    },
    {
      "cell_type": "code",
      "metadata": {
        "colab": {
          "base_uri": "https://localhost:8080/"
        },
        "id": "zlyYYR83Iitn",
        "outputId": "98d5a289-2a60-4ad6-a0a8-34bfa55dca6e"
      },
      "source": [
        "history += fit(5, 0.0001, model, train_dl, valid_dl, torch.optim.Adam)"
      ],
      "execution_count": null,
      "outputs": [
        {
          "output_type": "stream",
          "text": [
            "Epoch [0], train_loss: 0.7991, val_loss: 0.9463, val_acc: 0.6374\n",
            "Epoch [1], train_loss: 0.7605, val_loss: 0.9166, val_acc: 0.6303\n",
            "Epoch [2], train_loss: 0.7057, val_loss: 0.8998, val_acc: 0.6770\n",
            "Epoch [3], train_loss: 0.6843, val_loss: 0.8663, val_acc: 0.6640\n",
            "Epoch [4], train_loss: 0.6580, val_loss: 0.8698, val_acc: 0.6589\n"
          ],
          "name": "stdout"
        }
      ]
    },
    {
      "cell_type": "code",
      "metadata": {
        "colab": {
          "base_uri": "https://localhost:8080/"
        },
        "id": "d9WtwZ3AIiqX",
        "outputId": "8f73ff9f-163a-42cc-f44d-4e064db96327"
      },
      "source": [
        "history += fit(5, 0.0001, model, train_dl, valid_dl)"
      ],
      "execution_count": null,
      "outputs": [
        {
          "output_type": "stream",
          "text": [
            "Epoch [0], train_loss: 0.6544, val_loss: 0.8768, val_acc: 0.6686\n",
            "Epoch [1], train_loss: 0.6368, val_loss: 0.8608, val_acc: 0.6542\n",
            "Epoch [2], train_loss: 0.6272, val_loss: 0.8777, val_acc: 0.6303\n",
            "Epoch [3], train_loss: 0.6158, val_loss: 0.8717, val_acc: 0.6347\n",
            "Epoch [4], train_loss: 0.6392, val_loss: 0.8757, val_acc: 0.6411\n"
          ],
          "name": "stdout"
        }
      ]
    },
    {
      "cell_type": "markdown",
      "metadata": {
        "id": "yDqGKjd5lcmj"
      },
      "source": [
        "#Graphing to see accuarcy of the model"
      ]
    },
    {
      "cell_type": "code",
      "metadata": {
        "id": "Z2nP4SmHIimL"
      },
      "source": [
        "def plot_accuracies(history):\n",
        "    accuracies = [x['val_acc'] for x in history]\n",
        "    plt.plot(accuracies, '-x')\n",
        "    plt.xlabel('epoch')\n",
        "    plt.ylabel('accuracy')\n",
        "    plt.title('Accuracy vs. No. of epochs');"
      ],
      "execution_count": null,
      "outputs": []
    },
    {
      "cell_type": "code",
      "metadata": {
        "colab": {
          "base_uri": "https://localhost:8080/",
          "height": 295
        },
        "id": "x--8S6s7IiVd",
        "outputId": "48b61976-9cc9-4965-b1fb-ebdb7046f361"
      },
      "source": [
        "plot_accuracies(history)\n"
      ],
      "execution_count": null,
      "outputs": [
        {
          "output_type": "display_data",
          "data": {
            "image/png": "[encoded data removed]",
            "text/plain": [
              "<Figure size 432x288 with 1 Axes>"
            ]
          },
          "metadata": {
            "tags": [],
            "needs_background": "light"
          }
        }
      ]
    },
    {
      "cell_type": "markdown",
      "metadata": {
        "id": "niwaX4a4lic5"
      },
      "source": [
        "#Comparing the traning data to the loss data"
      ]
    },
    {
      "cell_type": "code",
      "metadata": {
        "id": "oIPst_20IuUq"
      },
      "source": [
        "def plot_losses(history):\n",
        "    train_losses = [x.get('train_loss') for x in history]\n",
        "    val_losses = [x['val_loss'] for x in history]\n",
        "    plt.plot(train_losses, '-bx')\n",
        "    plt.plot(val_losses, '-rx')\n",
        "    plt.xlabel('epoch')\n",
        "    plt.ylabel('loss')\n",
        "    plt.legend(['Training', 'Validation'])\n",
        "    plt.title('Loss vs. No. of epochs');"
      ],
      "execution_count": null,
      "outputs": []
    },
    {
      "cell_type": "code",
      "metadata": {
        "colab": {
          "base_uri": "https://localhost:8080/",
          "height": 295
        },
        "id": "A2c9cR4ZIuRa",
        "outputId": "938d8bdc-093a-4a28-9d62-8c03391affba"
      },
      "source": [
        "plot_losses(history)"
      ],
      "execution_count": null,
      "outputs": [
        {
          "output_type": "display_data",
          "data": {
            "image/png": "[encoded data removed]",
            "text/plain": [
              "<Figure size 432x288 with 1 Axes>"
            ]
          },
          "metadata": {
            "tags": [],
            "needs_background": "light"
          }
        }
      ]
    },
    {
      "cell_type": "code",
      "metadata": {
        "colab": {
          "base_uri": "https://localhost:8080/"
        },
        "id": "mROara5EIuN4",
        "outputId": "75603996-95ab-44c5-8e54-9d0ffd49f3e6"
      },
      "source": [
        "history[-1]"
      ],
      "execution_count": null,
      "outputs": [
        {
          "output_type": "execute_result",
          "data": {
            "text/plain": [
              "{'train_loss': 0.6391952037811279,\n",
              " 'val_acc': 0.6411257982254028,\n",
              " 'val_loss': 0.87574303150177}"
            ]
          },
          "metadata": {
            "tags": []
          },
          "execution_count": 49
        }
      ]
    },
    {
      "cell_type": "code",
      "metadata": {
        "colab": {
          "base_uri": "https://localhost:8080/"
        },
        "id": "HuV92jnmIuK5",
        "outputId": "8a072391-d057-4d36-d15e-449636bb8b54"
      },
      "source": [
        "jovian.reset()\n",
        "jovian.log_dataset(image_size=64)\n",
        "jovian.log_hyperparams(batch_size=128, \n",
        "                       arch='ResNet9', \n",
        "                       epochs=[5, 5, 5, 5], \n",
        "                       lrs=[0.001, 0.001, 1e-4, 1e-4],\n",
        "                       opt=['Adam', 'Adam', 'Adam', 'SGD'])\n",
        "jovian.log_metrics(train_loss=history[-1]['train_loss'],\n",
        "                   val_acc=history[-1]['val_acc'],\n",
        "                   val_loss=history[-1]['val_loss'])"
      ],
      "execution_count": null,
      "outputs": [
        {
          "output_type": "stream",
          "text": [
            "[jovian] Please enter your API key ( from https://jovian.ai/ ):\u001b[0m\n",
            "API KEY: ··········\n",
            "[jovian] Dataset logged.\u001b[0m\n",
            "[jovian] Hyperparams logged.\u001b[0m\n",
            "[jovian] Metrics logged.\u001b[0m\n"
          ],
          "name": "stdout"
        }
      ]
    },
    {
      "cell_type": "markdown",
      "metadata": {
        "id": "nwI1r755lnjz"
      },
      "source": [
        "##Testing the Model on Individual photos"
      ]
    },
    {
      "cell_type": "code",
      "metadata": {
        "id": "dsrs6QMeIuG0"
      },
      "source": [
        "def predict_image(img, model, classes):\n",
        "    # Convert to a batch of 1\n",
        "    xb = to_device(img.unsqueeze(0), device)\n",
        "    # Get predictions from model\n",
        "    yb = model(xb)\n",
        "    # Pick index with highest probability\n",
        "    _, preds  = torch.max(yb, dim=1)\n",
        "    # Retrieve the class label\n",
        "    return classes[preds[0].item()]"
      ],
      "execution_count": null,
      "outputs": []
    },
    {
      "cell_type": "code",
      "metadata": {
        "id": "gjLv7JYKI9vh"
      },
      "source": [
        "def show_image_prediction(img, label):\n",
        "    plt.imshow(img.permute((1, 2, 0)))\n",
        "    pred = predict_image(img, model, dataset.classes)\n",
        "    print('Target:', dataset.classes[label])\n",
        "    print('Prediction:', pred)"
      ],
      "execution_count": null,
      "outputs": []
    },
    {
      "cell_type": "code",
      "metadata": {
        "colab": {
          "base_uri": "https://localhost:8080/",
          "height": 302
        },
        "id": "AZzIAeTJI9sH",
        "outputId": "32a4ddc3-7146-4db6-fd86-8d9014420c71"
      },
      "source": [
        "show_image_prediction(*valid_ds[100])"
      ],
      "execution_count": null,
      "outputs": [
        {
          "output_type": "stream",
          "text": [
            "Target: Pablo_Picasso\n",
            "Prediction: Edgar_Degas\n"
          ],
          "name": "stdout"
        },
        {
          "output_type": "display_data",
          "data": {
            "image/png": "[encoded data removed]",
            "text/plain": [
              "<Figure size 432x288 with 1 Axes>"
            ]
          },
          "metadata": {
            "tags": [],
            "needs_background": "light"
          }
        }
      ]
    },
    {
      "cell_type": "code",
      "metadata": {
        "colab": {
          "base_uri": "https://localhost:8080/",
          "height": 302
        },
        "id": "0uw-d7_dI9o5",
        "outputId": "f4804753-85e5-4890-cb94-452e9b0b50f5"
      },
      "source": [
        "show_image_prediction(*valid_ds[300])"
      ],
      "execution_count": null,
      "outputs": [
        {
          "output_type": "stream",
          "text": [
            "Target: Edgar_Degas\n",
            "Prediction: Edgar_Degas\n"
          ],
          "name": "stdout"
        },
        {
          "output_type": "display_data",
          "data": {
            "image/png": "[encoded data removed]",
            "text/plain": [
              "<Figure size 432x288 with 1 Axes>"
            ]
          },
          "metadata": {
            "tags": [],
            "needs_background": "light"
          }
        }
      ]
    },
    {
      "cell_type": "code",
      "metadata": {
        "colab": {
          "base_uri": "https://localhost:8080/",
          "height": 302
        },
        "id": "OTqMNUlqI9lr",
        "outputId": "dd66cdf0-c59f-4656-d431-88717f002c6a"
      },
      "source": [
        "show_image_prediction(*valid_ds[12])"
      ],
      "execution_count": null,
      "outputs": [
        {
          "output_type": "stream",
          "text": [
            "Target: Alfred_Sisley\n",
            "Prediction: Alfred_Sisley\n"
          ],
          "name": "stdout"
        },
        {
          "output_type": "display_data",
          "data": {
            "image/png": "[encoded data removed]",
            "text/plain": [
              "<Figure size 432x288 with 1 Axes>"
            ]
          },
          "metadata": {
            "tags": [],
            "needs_background": "light"
          }
        }
      ]
    },
    {
      "cell_type": "markdown",
      "metadata": {
        "id": "IxJdTkitmBFJ"
      },
      "source": [
        "##Conclusions \n",
        "\n",
        "This project was a grat first Deep Learning project to work on I was able to work with two things I love coding in python and art. While going through the Jovian course work and working with different models I knew I wanted to create a project that would be able to predict outcomes and I'm happy I was able to say I created a Deep Learning Model to predict a an outcome correctly. Some further projects I would like to work on is predicting the next covid outbreaks and predicitng the likely cause of death of a person in New York City based off of their age and race. I feel this course and project has geared me with the tools to do so and I can't wait to embark on my deep learning journey!\n"
      ]
    }
  ]
}